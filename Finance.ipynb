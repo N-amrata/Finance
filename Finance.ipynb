{
  "nbformat": 4,
  "nbformat_minor": 0,
  "metadata": {
    "colab": {
      "name": "Finance.ipynb",
      "provenance": [],
      "collapsed_sections": []
    },
    "kernelspec": {
      "name": "python3",
      "display_name": "Python 3"
    }
  },
  "cells": [
    {
      "cell_type": "markdown",
      "metadata": {
        "id": "QAv1PzhcsWnn",
        "colab_type": "text"
      },
      "source": [
        "# Calculating Rate of Return\n",
        "Every investors main goal is to earn a good rate of return on his investment.\n",
        "Therefore we need a measure that ensures comparability between investments with different market prices.There are 2 ways to calculate rate of return.\n",
        "1.Simple Rate of return\n",
        "2.Logarithimic rate of return.\n",
        "\n",
        "**Note**-- when we have to deal with multiple assets over the same timeframe log returns are preferable.\n"
      ]
    },
    {
      "cell_type": "code",
      "metadata": {
        "id": "Cf3aR5eWvujS",
        "colab_type": "code",
        "colab": {}
      },
      "source": [
        "import numpy as np\n",
        "import pandas as pd\n",
        "from pandas_datareader import data as wb\n",
        "import matplotlib.pyplot as plt"
      ],
      "execution_count": 17,
      "outputs": []
    },
    {
      "cell_type": "code",
      "metadata": {
        "id": "DdH3kEVtwg2S",
        "colab_type": "code",
        "colab": {}
      },
      "source": [
        "PG=wb.DataReader('PG',data_source='yahoo',start='1995-1-1')\n",
        "#We are simply importing Proctor and Gamble data from Yahoo Finance for the period from the first of\n",
        "#January 1995 until today to confirm we did this operation correctly."
      ],
      "execution_count": 18,
      "outputs": []
    },
    {
      "cell_type": "code",
      "metadata": {
        "id": "xSbw8K4Awz5l",
        "colab_type": "code",
        "colab": {
          "base_uri": "https://localhost:8080/",
          "height": 235
        },
        "outputId": "76328bcc-8cb5-48e3-f921-0e539ac297ec"
      },
      "source": [
        "PG.head()"
      ],
      "execution_count": 19,
      "outputs": [
        {
          "output_type": "execute_result",
          "data": {
            "text/html": [
              "<div>\n",
              "<style scoped>\n",
              "    .dataframe tbody tr th:only-of-type {\n",
              "        vertical-align: middle;\n",
              "    }\n",
              "\n",
              "    .dataframe tbody tr th {\n",
              "        vertical-align: top;\n",
              "    }\n",
              "\n",
              "    .dataframe thead th {\n",
              "        text-align: right;\n",
              "    }\n",
              "</style>\n",
              "<table border=\"1\" class=\"dataframe\">\n",
              "  <thead>\n",
              "    <tr style=\"text-align: right;\">\n",
              "      <th></th>\n",
              "      <th>High</th>\n",
              "      <th>Low</th>\n",
              "      <th>Open</th>\n",
              "      <th>Close</th>\n",
              "      <th>Volume</th>\n",
              "      <th>Adj Close</th>\n",
              "    </tr>\n",
              "    <tr>\n",
              "      <th>Date</th>\n",
              "      <th></th>\n",
              "      <th></th>\n",
              "      <th></th>\n",
              "      <th></th>\n",
              "      <th></th>\n",
              "      <th></th>\n",
              "    </tr>\n",
              "  </thead>\n",
              "  <tbody>\n",
              "    <tr>\n",
              "      <th>1995-01-03</th>\n",
              "      <td>15.62500</td>\n",
              "      <td>15.43750</td>\n",
              "      <td>15.46875</td>\n",
              "      <td>15.59375</td>\n",
              "      <td>3318400.0</td>\n",
              "      <td>6.280613</td>\n",
              "    </tr>\n",
              "    <tr>\n",
              "      <th>1995-01-04</th>\n",
              "      <td>15.65625</td>\n",
              "      <td>15.31250</td>\n",
              "      <td>15.53125</td>\n",
              "      <td>15.46875</td>\n",
              "      <td>2218800.0</td>\n",
              "      <td>6.230266</td>\n",
              "    </tr>\n",
              "    <tr>\n",
              "      <th>1995-01-05</th>\n",
              "      <td>15.43750</td>\n",
              "      <td>15.21875</td>\n",
              "      <td>15.37500</td>\n",
              "      <td>15.25000</td>\n",
              "      <td>2319600.0</td>\n",
              "      <td>6.142162</td>\n",
              "    </tr>\n",
              "    <tr>\n",
              "      <th>1995-01-06</th>\n",
              "      <td>15.40625</td>\n",
              "      <td>15.15625</td>\n",
              "      <td>15.15625</td>\n",
              "      <td>15.28125</td>\n",
              "      <td>3438000.0</td>\n",
              "      <td>6.154748</td>\n",
              "    </tr>\n",
              "    <tr>\n",
              "      <th>1995-01-09</th>\n",
              "      <td>15.40625</td>\n",
              "      <td>15.18750</td>\n",
              "      <td>15.34375</td>\n",
              "      <td>15.21875</td>\n",
              "      <td>1795200.0</td>\n",
              "      <td>6.129573</td>\n",
              "    </tr>\n",
              "  </tbody>\n",
              "</table>\n",
              "</div>"
            ],
            "text/plain": [
              "                High       Low      Open     Close     Volume  Adj Close\n",
              "Date                                                                    \n",
              "1995-01-03  15.62500  15.43750  15.46875  15.59375  3318400.0   6.280613\n",
              "1995-01-04  15.65625  15.31250  15.53125  15.46875  2218800.0   6.230266\n",
              "1995-01-05  15.43750  15.21875  15.37500  15.25000  2319600.0   6.142162\n",
              "1995-01-06  15.40625  15.15625  15.15625  15.28125  3438000.0   6.154748\n",
              "1995-01-09  15.40625  15.18750  15.34375  15.21875  1795200.0   6.129573"
            ]
          },
          "metadata": {
            "tags": []
          },
          "execution_count": 19
        }
      ]
    },
    {
      "cell_type": "code",
      "metadata": {
        "id": "tbux6TMryZk9",
        "colab_type": "code",
        "colab": {
          "base_uri": "https://localhost:8080/",
          "height": 235
        },
        "outputId": "fcb11cfe-e71b-4b5a-d732-5d806edcfaa3"
      },
      "source": [
        "PG.tail()"
      ],
      "execution_count": 20,
      "outputs": [
        {
          "output_type": "execute_result",
          "data": {
            "text/html": [
              "<div>\n",
              "<style scoped>\n",
              "    .dataframe tbody tr th:only-of-type {\n",
              "        vertical-align: middle;\n",
              "    }\n",
              "\n",
              "    .dataframe tbody tr th {\n",
              "        vertical-align: top;\n",
              "    }\n",
              "\n",
              "    .dataframe thead th {\n",
              "        text-align: right;\n",
              "    }\n",
              "</style>\n",
              "<table border=\"1\" class=\"dataframe\">\n",
              "  <thead>\n",
              "    <tr style=\"text-align: right;\">\n",
              "      <th></th>\n",
              "      <th>High</th>\n",
              "      <th>Low</th>\n",
              "      <th>Open</th>\n",
              "      <th>Close</th>\n",
              "      <th>Volume</th>\n",
              "      <th>Adj Close</th>\n",
              "    </tr>\n",
              "    <tr>\n",
              "      <th>Date</th>\n",
              "      <th></th>\n",
              "      <th></th>\n",
              "      <th></th>\n",
              "      <th></th>\n",
              "      <th></th>\n",
              "      <th></th>\n",
              "    </tr>\n",
              "  </thead>\n",
              "  <tbody>\n",
              "    <tr>\n",
              "      <th>2020-09-14</th>\n",
              "      <td>139.580002</td>\n",
              "      <td>138.330002</td>\n",
              "      <td>138.440002</td>\n",
              "      <td>138.630005</td>\n",
              "      <td>4767400.0</td>\n",
              "      <td>138.630005</td>\n",
              "    </tr>\n",
              "    <tr>\n",
              "      <th>2020-09-15</th>\n",
              "      <td>139.770004</td>\n",
              "      <td>138.389999</td>\n",
              "      <td>138.789993</td>\n",
              "      <td>138.630005</td>\n",
              "      <td>4046500.0</td>\n",
              "      <td>138.630005</td>\n",
              "    </tr>\n",
              "    <tr>\n",
              "      <th>2020-09-16</th>\n",
              "      <td>140.169998</td>\n",
              "      <td>137.600006</td>\n",
              "      <td>139.570007</td>\n",
              "      <td>137.699997</td>\n",
              "      <td>6049900.0</td>\n",
              "      <td>137.699997</td>\n",
              "    </tr>\n",
              "    <tr>\n",
              "      <th>2020-09-17</th>\n",
              "      <td>137.880005</td>\n",
              "      <td>136.190002</td>\n",
              "      <td>137.059998</td>\n",
              "      <td>137.520004</td>\n",
              "      <td>4648500.0</td>\n",
              "      <td>137.520004</td>\n",
              "    </tr>\n",
              "    <tr>\n",
              "      <th>2020-09-18</th>\n",
              "      <td>137.759995</td>\n",
              "      <td>136.899994</td>\n",
              "      <td>136.910004</td>\n",
              "      <td>137.490005</td>\n",
              "      <td>2730238.0</td>\n",
              "      <td>137.490005</td>\n",
              "    </tr>\n",
              "  </tbody>\n",
              "</table>\n",
              "</div>"
            ],
            "text/plain": [
              "                  High         Low  ...     Volume   Adj Close\n",
              "Date                                ...                       \n",
              "2020-09-14  139.580002  138.330002  ...  4767400.0  138.630005\n",
              "2020-09-15  139.770004  138.389999  ...  4046500.0  138.630005\n",
              "2020-09-16  140.169998  137.600006  ...  6049900.0  137.699997\n",
              "2020-09-17  137.880005  136.190002  ...  4648500.0  137.520004\n",
              "2020-09-18  137.759995  136.899994  ...  2730238.0  137.490005\n",
              "\n",
              "[5 rows x 6 columns]"
            ]
          },
          "metadata": {
            "tags": []
          },
          "execution_count": 20
        }
      ]
    },
    {
      "cell_type": "code",
      "metadata": {
        "id": "bJC0ZMjvydl-",
        "colab_type": "code",
        "colab": {}
      },
      "source": [
        "#a simple rate of return can be calculated as the difference between \n",
        "#the stock's price on Day 1 minus its price on day 0 divided by the price on days 0 and when we say price\n",
        "#we mean adjusted closing price.\n",
        "#(p1-p0)/p0=(p1/p0)-1"
      ],
      "execution_count": 21,
      "outputs": []
    },
    {
      "cell_type": "code",
      "metadata": {
        "id": "8qmekzkZ0fVA",
        "colab_type": "code",
        "colab": {
          "base_uri": "https://localhost:8080/",
          "height": 238
        },
        "outputId": "805ddda2-680b-45ac-a3a5-7b755196232f"
      },
      "source": [
        "PG['simple_return']=(PG['Adj Close']/PG['Adj Close'].shift(1))-1\n",
        "print(PG['simple_return'])"
      ],
      "execution_count": 22,
      "outputs": [
        {
          "output_type": "stream",
          "text": [
            "Date\n",
            "1995-01-03         NaN\n",
            "1995-01-04   -0.008016\n",
            "1995-01-05   -0.014141\n",
            "1995-01-06    0.002049\n",
            "1995-01-09   -0.004090\n",
            "                ...   \n",
            "2020-09-14    0.003547\n",
            "2020-09-15    0.000000\n",
            "2020-09-16   -0.006709\n",
            "2020-09-17   -0.001307\n",
            "2020-09-18   -0.000218\n",
            "Name: simple_return, Length: 6475, dtype: float64\n"
          ],
          "name": "stdout"
        }
      ]
    },
    {
      "cell_type": "code",
      "metadata": {
        "id": "6UV408sa2Vb3",
        "colab_type": "code",
        "colab": {
          "base_uri": "https://localhost:8080/",
          "height": 318
        },
        "outputId": "687e980a-c549-4e8e-c8df-6e6ab9090d6d"
      },
      "source": [
        "PG['simple_return'].plot(figsize=(8,5))\n",
        "plt.show()"
      ],
      "execution_count": 23,
      "outputs": [
        {
          "output_type": "display_data",
          "data": {
            "image/png": "[encoded data removed]",
            "text/plain": [
              "<Figure size 576x360 with 1 Axes>"
            ]
          },
          "metadata": {
            "tags": [],
            "needs_background": "light"
          }
        }
      ]
    },
    {
      "cell_type": "code",
      "metadata": {
        "id": "QIrsqumo20UF",
        "colab_type": "code",
        "colab": {
          "base_uri": "https://localhost:8080/",
          "height": 34
        },
        "outputId": "98d23761-107d-40b1-c873-6fdfd20e4b36"
      },
      "source": [
        "# calculate the mean return of P and G throughout the period under analysis.\n",
        "avg_returns_d=PG['simple_return'].mean()\n",
        "avg_returns_d\n",
        "#This number looks really small.\n",
        "#So lets calculate average annual rate of return, it would be more meaningful."
      ],
      "execution_count": 24,
      "outputs": [
        {
          "output_type": "execute_result",
          "data": {
            "text/plain": [
              "0.0005799866837065302"
            ]
          },
          "metadata": {
            "tags": []
          },
          "execution_count": 24
        }
      ]
    },
    {
      "cell_type": "code",
      "metadata": {
        "id": "G1Wqli494pSZ",
        "colab_type": "code",
        "colab": {
          "base_uri": "https://localhost:8080/",
          "height": 34
        },
        "outputId": "e533fa57-3abf-4ebb-ce24-1e8c4c98fa3d"
      },
      "source": [
        "#The data we extracted is not composed of 365 observations per year.\n",
        "#It excludes non trading days such as Saturday Sundays and bank holidays.\n",
        "#The number of trading days per year is around 250 sometimes 251.\n",
        "#At other times 252.\n",
        "#So let's use the number 250.\n",
        "avg_returns_a=PG['simple_return'].mean()*250\n",
        "print (str(round(avg_returns_a,5)*100)+' %')"
      ],
      "execution_count": 25,
      "outputs": [
        {
          "output_type": "stream",
          "text": [
            "14.499999999999998 %\n"
          ],
          "name": "stdout"
        }
      ]
    },
    {
      "cell_type": "code",
      "metadata": {
        "id": "c214OoJd5sn9",
        "colab_type": "code",
        "colab": {
          "base_uri": "https://localhost:8080/",
          "height": 238
        },
        "outputId": "af5785f8-2ca7-475c-fc74-8b42d68dea3e"
      },
      "source": [
        "#Since we are exploring the behaviour of single stock from 1995 till 2020, perhaps it will be better to use log returns\n",
        "PG['log_return']=np.log(PG['Adj Close']/PG['Adj Close'].shift(1))\n",
        "print(PG['log_return'])"
      ],
      "execution_count": 26,
      "outputs": [
        {
          "output_type": "stream",
          "text": [
            "Date\n",
            "1995-01-03         NaN\n",
            "1995-01-04   -0.008049\n",
            "1995-01-05   -0.014242\n",
            "1995-01-06    0.002047\n",
            "1995-01-09   -0.004099\n",
            "                ...   \n",
            "2020-09-14    0.003541\n",
            "2020-09-15    0.000000\n",
            "2020-09-16   -0.006731\n",
            "2020-09-17   -0.001308\n",
            "2020-09-18   -0.000218\n",
            "Name: log_return, Length: 6475, dtype: float64\n"
          ],
          "name": "stdout"
        }
      ]
    },
    {
      "cell_type": "code",
      "metadata": {
        "id": "oOja23wK7345",
        "colab_type": "code",
        "colab": {
          "base_uri": "https://localhost:8080/",
          "height": 335
        },
        "outputId": "ee93f628-b868-4315-eb1b-e1a5a0f2c061"
      },
      "source": [
        "PG['log_return'].plot(figsize=(8,5))"
      ],
      "execution_count": 27,
      "outputs": [
        {
          "output_type": "execute_result",
          "data": {
            "text/plain": [
              "<matplotlib.axes._subplots.AxesSubplot at 0x7f2ab0dbee80>"
            ]
          },
          "metadata": {
            "tags": []
          },
          "execution_count": 27
        },
        {
          "output_type": "display_data",
          "data": {
            "image/png": "[encoded data removed]",
            "text/plain": [
              "<Figure size 576x360 with 1 Axes>"
            ]
          },
          "metadata": {
            "tags": [],
            "needs_background": "light"
          }
        }
      ]
    },
    {
      "cell_type": "code",
      "metadata": {
        "id": "AjWfsTdj8Soe",
        "colab_type": "code",
        "colab": {
          "base_uri": "https://localhost:8080/",
          "height": 34
        },
        "outputId": "4028b388-dfb8-4ea1-ac8e-93740d0f65d1"
      },
      "source": [
        "log_returns_a=PG['log_return'].mean()*250\n",
        "print (str(round(log_returns_a,5)*100)+' %')"
      ],
      "execution_count": 28,
      "outputs": [
        {
          "output_type": "stream",
          "text": [
            "11.917 %\n"
          ],
          "name": "stdout"
        }
      ]
    },
    {
      "cell_type": "markdown",
      "metadata": {
        "id": "5jhZ08ZM9jSg",
        "colab_type": "text"
      },
      "source": [
        "# Calculating Rate of Return Over multiple Investments"
      ]
    },
    {
      "cell_type": "code",
      "metadata": {
        "id": "rNrT2KuIeFQ3",
        "colab_type": "code",
        "colab": {}
      },
      "source": [
        "tickers=['PG','MSFT','F','GE']\n",
        "#PG=Procter & Gamble,MSFT=Microsoft,F=Ford,GE=General Electric\n",
        "mydata=pd.DataFrame()\n",
        "for t in tickers:\n",
        "  mydata[t]=wb.DataReader(t,data_source='yahoo',start='1995-1-1')['Adj Close']\n"
      ],
      "execution_count": 29,
      "outputs": []
    },
    {
      "cell_type": "code",
      "metadata": {
        "id": "iPfyfjnJk53q",
        "colab_type": "code",
        "colab": {
          "base_uri": "https://localhost:8080/",
          "height": 204
        },
        "outputId": "b9895f76-6812-4440-96a5-61628f711670"
      },
      "source": [
        "mydata.info()"
      ],
      "execution_count": 30,
      "outputs": [
        {
          "output_type": "stream",
          "text": [
            "<class 'pandas.core.frame.DataFrame'>\n",
            "DatetimeIndex: 6475 entries, 1995-01-03 to 2020-09-18\n",
            "Data columns (total 4 columns):\n",
            " #   Column  Non-Null Count  Dtype  \n",
            "---  ------  --------------  -----  \n",
            " 0   PG      6475 non-null   float64\n",
            " 1   MSFT    6475 non-null   float64\n",
            " 2   F       6475 non-null   float64\n",
            " 3   GE      6475 non-null   float64\n",
            "dtypes: float64(4)\n",
            "memory usage: 252.9 KB\n"
          ],
          "name": "stdout"
        }
      ]
    },
    {
      "cell_type": "code",
      "metadata": {
        "id": "iLQ9zmh3lCop",
        "colab_type": "code",
        "colab": {
          "base_uri": "https://localhost:8080/",
          "height": 235
        },
        "outputId": "5f80f934-0046-427c-a886-3eadf7641534"
      },
      "source": [
        "mydata.head()"
      ],
      "execution_count": 31,
      "outputs": [
        {
          "output_type": "execute_result",
          "data": {
            "text/html": [
              "<div>\n",
              "<style scoped>\n",
              "    .dataframe tbody tr th:only-of-type {\n",
              "        vertical-align: middle;\n",
              "    }\n",
              "\n",
              "    .dataframe tbody tr th {\n",
              "        vertical-align: top;\n",
              "    }\n",
              "\n",
              "    .dataframe thead th {\n",
              "        text-align: right;\n",
              "    }\n",
              "</style>\n",
              "<table border=\"1\" class=\"dataframe\">\n",
              "  <thead>\n",
              "    <tr style=\"text-align: right;\">\n",
              "      <th></th>\n",
              "      <th>PG</th>\n",
              "      <th>MSFT</th>\n",
              "      <th>F</th>\n",
              "      <th>GE</th>\n",
              "    </tr>\n",
              "    <tr>\n",
              "      <th>Date</th>\n",
              "      <th></th>\n",
              "      <th></th>\n",
              "      <th></th>\n",
              "      <th></th>\n",
              "    </tr>\n",
              "  </thead>\n",
              "  <tbody>\n",
              "    <tr>\n",
              "      <th>1995-01-03</th>\n",
              "      <td>6.280613</td>\n",
              "      <td>2.401030</td>\n",
              "      <td>3.262354</td>\n",
              "      <td>2.725145</td>\n",
              "    </tr>\n",
              "    <tr>\n",
              "      <th>1995-01-04</th>\n",
              "      <td>6.230266</td>\n",
              "      <td>2.418484</td>\n",
              "      <td>3.350130</td>\n",
              "      <td>2.725145</td>\n",
              "    </tr>\n",
              "    <tr>\n",
              "      <th>1995-01-05</th>\n",
              "      <td>6.142162</td>\n",
              "      <td>2.378592</td>\n",
              "      <td>3.320871</td>\n",
              "      <td>2.731823</td>\n",
              "    </tr>\n",
              "    <tr>\n",
              "      <th>1995-01-06</th>\n",
              "      <td>6.154748</td>\n",
              "      <td>2.418484</td>\n",
              "      <td>3.320871</td>\n",
              "      <td>2.718464</td>\n",
              "    </tr>\n",
              "    <tr>\n",
              "      <th>1995-01-09</th>\n",
              "      <td>6.129573</td>\n",
              "      <td>2.403525</td>\n",
              "      <td>3.379390</td>\n",
              "      <td>2.691748</td>\n",
              "    </tr>\n",
              "  </tbody>\n",
              "</table>\n",
              "</div>"
            ],
            "text/plain": [
              "                  PG      MSFT         F        GE\n",
              "Date                                              \n",
              "1995-01-03  6.280613  2.401030  3.262354  2.725145\n",
              "1995-01-04  6.230266  2.418484  3.350130  2.725145\n",
              "1995-01-05  6.142162  2.378592  3.320871  2.731823\n",
              "1995-01-06  6.154748  2.418484  3.320871  2.718464\n",
              "1995-01-09  6.129573  2.403525  3.379390  2.691748"
            ]
          },
          "metadata": {
            "tags": []
          },
          "execution_count": 31
        }
      ]
    },
    {
      "cell_type": "code",
      "metadata": {
        "id": "EulNyPpVlLyP",
        "colab_type": "code",
        "colab": {
          "base_uri": "https://localhost:8080/",
          "height": 235
        },
        "outputId": "24842c03-4af6-461a-dfc4-03e07d1ff3fd"
      },
      "source": [
        "mydata.tail()"
      ],
      "execution_count": 32,
      "outputs": [
        {
          "output_type": "execute_result",
          "data": {
            "text/html": [
              "<div>\n",
              "<style scoped>\n",
              "    .dataframe tbody tr th:only-of-type {\n",
              "        vertical-align: middle;\n",
              "    }\n",
              "\n",
              "    .dataframe tbody tr th {\n",
              "        vertical-align: top;\n",
              "    }\n",
              "\n",
              "    .dataframe thead th {\n",
              "        text-align: right;\n",
              "    }\n",
              "</style>\n",
              "<table border=\"1\" class=\"dataframe\">\n",
              "  <thead>\n",
              "    <tr style=\"text-align: right;\">\n",
              "      <th></th>\n",
              "      <th>PG</th>\n",
              "      <th>MSFT</th>\n",
              "      <th>F</th>\n",
              "      <th>GE</th>\n",
              "    </tr>\n",
              "    <tr>\n",
              "      <th>Date</th>\n",
              "      <th></th>\n",
              "      <th></th>\n",
              "      <th></th>\n",
              "      <th></th>\n",
              "    </tr>\n",
              "  </thead>\n",
              "  <tbody>\n",
              "    <tr>\n",
              "      <th>2020-09-14</th>\n",
              "      <td>138.630005</td>\n",
              "      <td>205.410004</td>\n",
              "      <td>7.120</td>\n",
              "      <td>6.150</td>\n",
              "    </tr>\n",
              "    <tr>\n",
              "      <th>2020-09-15</th>\n",
              "      <td>138.630005</td>\n",
              "      <td>208.779999</td>\n",
              "      <td>7.040</td>\n",
              "      <td>6.100</td>\n",
              "    </tr>\n",
              "    <tr>\n",
              "      <th>2020-09-16</th>\n",
              "      <td>137.699997</td>\n",
              "      <td>205.050003</td>\n",
              "      <td>7.020</td>\n",
              "      <td>6.750</td>\n",
              "    </tr>\n",
              "    <tr>\n",
              "      <th>2020-09-17</th>\n",
              "      <td>137.520004</td>\n",
              "      <td>202.910004</td>\n",
              "      <td>7.280</td>\n",
              "      <td>7.050</td>\n",
              "    </tr>\n",
              "    <tr>\n",
              "      <th>2020-09-18</th>\n",
              "      <td>137.440002</td>\n",
              "      <td>201.130005</td>\n",
              "      <td>7.385</td>\n",
              "      <td>7.085</td>\n",
              "    </tr>\n",
              "  </tbody>\n",
              "</table>\n",
              "</div>"
            ],
            "text/plain": [
              "                    PG        MSFT      F     GE\n",
              "Date                                            \n",
              "2020-09-14  138.630005  205.410004  7.120  6.150\n",
              "2020-09-15  138.630005  208.779999  7.040  6.100\n",
              "2020-09-16  137.699997  205.050003  7.020  6.750\n",
              "2020-09-17  137.520004  202.910004  7.280  7.050\n",
              "2020-09-18  137.440002  201.130005  7.385  7.085"
            ]
          },
          "metadata": {
            "tags": []
          },
          "execution_count": 32
        }
      ]
    },
    {
      "cell_type": "code",
      "metadata": {
        "id": "m9OSmrkDlZkI",
        "colab_type": "code",
        "colab": {
          "base_uri": "https://localhost:8080/",
          "height": 102
        },
        "outputId": "74351908-b36c-423f-9c1a-1c4a41deb33a"
      },
      "source": [
        "#create a line chart which will help understand how these securities\n",
        "#performed throughout the timeframe under consideration\n",
        "#Normalize to 100 i.e (pt/p0)*100\n",
        "mydata.loc['1995-01-03']"
      ],
      "execution_count": 33,
      "outputs": [
        {
          "output_type": "execute_result",
          "data": {
            "text/plain": [
              "PG      6.280613\n",
              "MSFT    2.401030\n",
              "F       3.262354\n",
              "GE      2.725145\n",
              "Name: 1995-01-03 00:00:00, dtype: float64"
            ]
          },
          "metadata": {
            "tags": []
          },
          "execution_count": 33
        }
      ]
    },
    {
      "cell_type": "code",
      "metadata": {
        "id": "hfNB9FJlmXyL",
        "colab_type": "code",
        "colab": {
          "base_uri": "https://localhost:8080/",
          "height": 808
        },
        "outputId": "42bce328-a588-490f-b181-a4b53711fa4e"
      },
      "source": [
        "(mydata/mydata.iloc[0]*100).plot(figsize=(15,15))\n",
        "plt.show()\n",
        "#Microsoft is a fair winner.\n",
        "#It beats the other stocks regarding stock price performance from 1995 until the end of 2004\n",
        "#The moment of the global financial crisis(2008) General Electric performed better than Procter and Gamble.\n",
        "#But apparently it could not sustain the tumble.\n",
        "#Procter Gamble shares have cost more ever since finally Ford enjoyed a short time lead over G(near 2000)"
      ],
      "execution_count": 34,
      "outputs": [
        {
          "output_type": "display_data",
          "data": {
            "image/png": "[encoded data removed]",
            "text/plain": [
              "<Figure size 1080x1080 with 1 Axes>"
            ]
          },
          "metadata": {
            "tags": [],
            "needs_background": "light"
          }
        }
      ]
    },
    {
      "cell_type": "code",
      "metadata": {
        "id": "TXKeDe8PqtMD",
        "colab_type": "code",
        "colab": {
          "base_uri": "https://localhost:8080/",
          "height": 235
        },
        "outputId": "56e8dc22-f328-4b8c-932f-bab204e0b6f9"
      },
      "source": [
        "#Calculating the return of the portfoliosecurites\n",
        "returns=(mydata/mydata.shift(1))-1\n",
        "returns.head()"
      ],
      "execution_count": 35,
      "outputs": [
        {
          "output_type": "execute_result",
          "data": {
            "text/html": [
              "<div>\n",
              "<style scoped>\n",
              "    .dataframe tbody tr th:only-of-type {\n",
              "        vertical-align: middle;\n",
              "    }\n",
              "\n",
              "    .dataframe tbody tr th {\n",
              "        vertical-align: top;\n",
              "    }\n",
              "\n",
              "    .dataframe thead th {\n",
              "        text-align: right;\n",
              "    }\n",
              "</style>\n",
              "<table border=\"1\" class=\"dataframe\">\n",
              "  <thead>\n",
              "    <tr style=\"text-align: right;\">\n",
              "      <th></th>\n",
              "      <th>PG</th>\n",
              "      <th>MSFT</th>\n",
              "      <th>F</th>\n",
              "      <th>GE</th>\n",
              "    </tr>\n",
              "    <tr>\n",
              "      <th>Date</th>\n",
              "      <th></th>\n",
              "      <th></th>\n",
              "      <th></th>\n",
              "      <th></th>\n",
              "    </tr>\n",
              "  </thead>\n",
              "  <tbody>\n",
              "    <tr>\n",
              "      <th>1995-01-03</th>\n",
              "      <td>NaN</td>\n",
              "      <td>NaN</td>\n",
              "      <td>NaN</td>\n",
              "      <td>NaN</td>\n",
              "    </tr>\n",
              "    <tr>\n",
              "      <th>1995-01-04</th>\n",
              "      <td>-0.008016</td>\n",
              "      <td>0.007269</td>\n",
              "      <td>0.026906</td>\n",
              "      <td>0.000000</td>\n",
              "    </tr>\n",
              "    <tr>\n",
              "      <th>1995-01-05</th>\n",
              "      <td>-0.014141</td>\n",
              "      <td>-0.016495</td>\n",
              "      <td>-0.008734</td>\n",
              "      <td>0.002451</td>\n",
              "    </tr>\n",
              "    <tr>\n",
              "      <th>1995-01-06</th>\n",
              "      <td>0.002049</td>\n",
              "      <td>0.016771</td>\n",
              "      <td>0.000000</td>\n",
              "      <td>-0.004890</td>\n",
              "    </tr>\n",
              "    <tr>\n",
              "      <th>1995-01-09</th>\n",
              "      <td>-0.004090</td>\n",
              "      <td>-0.006186</td>\n",
              "      <td>0.017622</td>\n",
              "      <td>-0.009828</td>\n",
              "    </tr>\n",
              "  </tbody>\n",
              "</table>\n",
              "</div>"
            ],
            "text/plain": [
              "                  PG      MSFT         F        GE\n",
              "Date                                              \n",
              "1995-01-03       NaN       NaN       NaN       NaN\n",
              "1995-01-04 -0.008016  0.007269  0.026906  0.000000\n",
              "1995-01-05 -0.014141 -0.016495 -0.008734  0.002451\n",
              "1995-01-06  0.002049  0.016771  0.000000 -0.004890\n",
              "1995-01-09 -0.004090 -0.006186  0.017622 -0.009828"
            ]
          },
          "metadata": {
            "tags": []
          },
          "execution_count": 35
        }
      ]
    },
    {
      "cell_type": "code",
      "metadata": {
        "id": "nPMRoHpfrdvX",
        "colab_type": "code",
        "colab": {
          "base_uri": "https://localhost:8080/",
          "height": 102
        },
        "outputId": "d950cb9f-7fff-42aa-b9ce-32cfead88da9"
      },
      "source": [
        "annual_returns=returns.mean()*250\n",
        "annual_returns"
      ],
      "execution_count": 36,
      "outputs": [
        {
          "output_type": "execute_result",
          "data": {
            "text/plain": [
              "PG      0.144983\n",
              "MSFT    0.221160\n",
              "F       0.111377\n",
              "GE      0.088014\n",
              "dtype: float64"
            ]
          },
          "metadata": {
            "tags": []
          },
          "execution_count": 36
        }
      ]
    },
    {
      "cell_type": "code",
      "metadata": {
        "id": "CeAtPeifvKw0",
        "colab_type": "code",
        "colab": {
          "base_uri": "https://localhost:8080/",
          "height": 34
        },
        "outputId": "989c4e6f-f73b-49e6-a108-c284720b2929"
      },
      "source": [
        "weights=np.array([0.25,0.25,0.25,0.25])\n",
        "np.dot(annual_returns,weights)"
      ],
      "execution_count": 37,
      "outputs": [
        {
          "output_type": "execute_result",
          "data": {
            "text/plain": [
              "0.14138330853059833"
            ]
          },
          "metadata": {
            "tags": []
          },
          "execution_count": 37
        }
      ]
    },
    {
      "cell_type": "code",
      "metadata": {
        "id": "ZJH2g6HUwoex",
        "colab_type": "code",
        "colab": {
          "base_uri": "https://localhost:8080/",
          "height": 34
        },
        "outputId": "0b986f4e-ae5b-465b-a9b3-8c83fd1a7e50"
      },
      "source": [
        "portfolio1=str(round(np.dot(annual_returns,weights),5)*100)+' %'\n",
        "print(portfolio1)"
      ],
      "execution_count": 38,
      "outputs": [
        {
          "output_type": "stream",
          "text": [
            "14.138 %\n"
          ],
          "name": "stdout"
        }
      ]
    },
    {
      "cell_type": "code",
      "metadata": {
        "id": "G7BEifxbxFIr",
        "colab_type": "code",
        "colab": {}
      },
      "source": [
        "#to compare this combination with the performance of another portfolio.\n",
        "#assign new weights for each stock.\n",
        "weights2=np.array([0.4,0.4,0.15,0.15])"
      ],
      "execution_count": 39,
      "outputs": []
    },
    {
      "cell_type": "code",
      "metadata": {
        "id": "sdkGs5N3xXON",
        "colab_type": "code",
        "colab": {
          "base_uri": "https://localhost:8080/",
          "height": 34
        },
        "outputId": "4d09a7ac-d5f9-4ecb-a1bc-8335f6e39b46"
      },
      "source": [
        "portfolio2=str(round(np.dot(annual_returns,weights2),5)*100)+' %'\n",
        "print(portfolio2)"
      ],
      "execution_count": 40,
      "outputs": [
        {
          "output_type": "stream",
          "text": [
            "17.637 %\n"
          ],
          "name": "stdout"
        }
      ]
    }
  ]
}